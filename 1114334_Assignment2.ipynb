{
  "nbformat": 4,
  "nbformat_minor": 0,
  "metadata": {
    "colab": {
      "name": "NLP_Assignment2.ipynb",
      "provenance": [],
      "collapsed_sections": []
    },
    "kernelspec": {
      "name": "python3",
      "display_name": "Python 3"
    },
    "accelerator": "GPU"
  },
  "cells": [
    {
      "cell_type": "code",
      "metadata": {
        "id": "YYJbOnDxODJH",
        "colab_type": "code",
        "outputId": "7979a96f-6fec-4d87-98c7-dea6ee1f807a",
        "colab": {
          "base_uri": "https://localhost:8080/",
          "height": 234
        }
      },
      "source": [
        "# Importing pandas librar \n",
        "import pandas as pd\n",
        "# Get the train/test split package from sklearn for spliting the dataset to train and test set \n",
        "from sklearn.model_selection import train_test_split\n",
        "# Importing the numpy library \n",
        "import numpy as np\n",
        "import matplotlib.pyplot as plt\n",
        "#importing the natural language toolkit\n",
        "import nltk \n",
        "import random \n",
        "from nltk.tokenize import word_tokenize\n",
        "nltk.download('punkt') \n",
        "nltk.download('stopwords')  \n",
        "nltk.download('wordnet')\n",
        "import tensorflow.compat.v1 as tf\n",
        "tf.disable_v2_behavior()"
      ],
      "execution_count": 1,
      "outputs": [
        {
          "output_type": "stream",
          "text": [
            "[nltk_data] Downloading package punkt to /root/nltk_data...\n",
            "[nltk_data]   Unzipping tokenizers/punkt.zip.\n",
            "[nltk_data] Downloading package stopwords to /root/nltk_data...\n",
            "[nltk_data]   Unzipping corpora/stopwords.zip.\n",
            "[nltk_data] Downloading package wordnet to /root/nltk_data...\n",
            "[nltk_data]   Unzipping corpora/wordnet.zip.\n"
          ],
          "name": "stdout"
        },
        {
          "output_type": "display_data",
          "data": {
            "text/html": [
              "<p style=\"color: red;\">\n",
              "The default version of TensorFlow in Colab will soon switch to TensorFlow 2.x.<br>\n",
              "We recommend you <a href=\"https://www.tensorflow.org/guide/migrate\" target=\"_blank\">upgrade</a> now \n",
              "or ensure your notebook will continue to use TensorFlow 1.x via the <code>%tensorflow_version 1.x</code> magic:\n",
              "<a href=\"https://colab.research.google.com/notebooks/tensorflow_version.ipynb\" target=\"_blank\">more info</a>.</p>\n"
            ],
            "text/plain": [
              "<IPython.core.display.HTML object>"
            ]
          },
          "metadata": {
            "tags": []
          }
        },
        {
          "output_type": "stream",
          "text": [
            "WARNING:tensorflow:From /tensorflow-1.15.0/python3.6/tensorflow_core/python/compat/v2_compat.py:68: disable_resource_variables (from tensorflow.python.ops.variable_scope) is deprecated and will be removed in a future version.\n",
            "Instructions for updating:\n",
            "non-resource variables are not supported in the long term\n"
          ],
          "name": "stdout"
        }
      ]
    },
    {
      "cell_type": "code",
      "metadata": {
        "id": "K30PF-0-OcM-",
        "colab_type": "code",
        "outputId": "2fa4bd06-a104-4fcb-bf8e-8c87a81c5d65",
        "colab": {
          "base_uri": "https://localhost:8080/",
          "height": 343
        }
      },
      "source": [
        "# Importing the necessary libraries\n",
        "import csv\n",
        "import urllib.request as urllib2\n",
        "import matplotlib.pyplot as plt\n",
        "from nltk import FreqDist\n",
        "import pandas as pd\n",
        "import matplotlib.pyplot as plt\n",
        "# import data from google drive\n",
        "data = pd.read_csv('https://raw.githubusercontent.com/cacoderquan/Sentiment-Analysis-on-the-Rotten-Tomatoes-movie-review-dataset/master/train.tsv', sep='\\t')\n",
        "\n",
        "# Check the head of the dataframe\n",
        "data.head(10)"
      ],
      "execution_count": 2,
      "outputs": [
        {
          "output_type": "execute_result",
          "data": {
            "text/html": [
              "<div>\n",
              "<style scoped>\n",
              "    .dataframe tbody tr th:only-of-type {\n",
              "        vertical-align: middle;\n",
              "    }\n",
              "\n",
              "    .dataframe tbody tr th {\n",
              "        vertical-align: top;\n",
              "    }\n",
              "\n",
              "    .dataframe thead th {\n",
              "        text-align: right;\n",
              "    }\n",
              "</style>\n",
              "<table border=\"1\" class=\"dataframe\">\n",
              "  <thead>\n",
              "    <tr style=\"text-align: right;\">\n",
              "      <th></th>\n",
              "      <th>PhraseId</th>\n",
              "      <th>SentenceId</th>\n",
              "      <th>Phrase</th>\n",
              "      <th>Sentiment</th>\n",
              "    </tr>\n",
              "  </thead>\n",
              "  <tbody>\n",
              "    <tr>\n",
              "      <th>0</th>\n",
              "      <td>1</td>\n",
              "      <td>1</td>\n",
              "      <td>A series of escapades demonstrating the adage ...</td>\n",
              "      <td>1</td>\n",
              "    </tr>\n",
              "    <tr>\n",
              "      <th>1</th>\n",
              "      <td>2</td>\n",
              "      <td>1</td>\n",
              "      <td>A series of escapades demonstrating the adage ...</td>\n",
              "      <td>2</td>\n",
              "    </tr>\n",
              "    <tr>\n",
              "      <th>2</th>\n",
              "      <td>3</td>\n",
              "      <td>1</td>\n",
              "      <td>A series</td>\n",
              "      <td>2</td>\n",
              "    </tr>\n",
              "    <tr>\n",
              "      <th>3</th>\n",
              "      <td>4</td>\n",
              "      <td>1</td>\n",
              "      <td>A</td>\n",
              "      <td>2</td>\n",
              "    </tr>\n",
              "    <tr>\n",
              "      <th>4</th>\n",
              "      <td>5</td>\n",
              "      <td>1</td>\n",
              "      <td>series</td>\n",
              "      <td>2</td>\n",
              "    </tr>\n",
              "    <tr>\n",
              "      <th>5</th>\n",
              "      <td>6</td>\n",
              "      <td>1</td>\n",
              "      <td>of escapades demonstrating the adage that what...</td>\n",
              "      <td>2</td>\n",
              "    </tr>\n",
              "    <tr>\n",
              "      <th>6</th>\n",
              "      <td>7</td>\n",
              "      <td>1</td>\n",
              "      <td>of</td>\n",
              "      <td>2</td>\n",
              "    </tr>\n",
              "    <tr>\n",
              "      <th>7</th>\n",
              "      <td>8</td>\n",
              "      <td>1</td>\n",
              "      <td>escapades demonstrating the adage that what is...</td>\n",
              "      <td>2</td>\n",
              "    </tr>\n",
              "    <tr>\n",
              "      <th>8</th>\n",
              "      <td>9</td>\n",
              "      <td>1</td>\n",
              "      <td>escapades</td>\n",
              "      <td>2</td>\n",
              "    </tr>\n",
              "    <tr>\n",
              "      <th>9</th>\n",
              "      <td>10</td>\n",
              "      <td>1</td>\n",
              "      <td>demonstrating the adage that what is good for ...</td>\n",
              "      <td>2</td>\n",
              "    </tr>\n",
              "  </tbody>\n",
              "</table>\n",
              "</div>"
            ],
            "text/plain": [
              "   PhraseId  ...  Sentiment\n",
              "0         1  ...          1\n",
              "1         2  ...          2\n",
              "2         3  ...          2\n",
              "3         4  ...          2\n",
              "4         5  ...          2\n",
              "5         6  ...          2\n",
              "6         7  ...          2\n",
              "7         8  ...          2\n",
              "8         9  ...          2\n",
              "9        10  ...          2\n",
              "\n",
              "[10 rows x 4 columns]"
            ]
          },
          "metadata": {
            "tags": []
          },
          "execution_count": 2
        }
      ]
    },
    {
      "cell_type": "code",
      "metadata": {
        "id": "4GDTubcdPk08",
        "colab_type": "code",
        "outputId": "b887d402-b75b-422f-ef4a-747f2a0c41b1",
        "colab": {
          "base_uri": "https://localhost:8080/",
          "height": 265
        }
      },
      "source": [
        "raw_data = data.Sentiment.value_counts()\n",
        "plt.bar(raw_data.index.values, height=raw_data);"
      ],
      "execution_count": 3,
      "outputs": [
        {
          "output_type": "display_data",
          "data": {
            "image/png": "[encoded data removed]",
            "text/plain": [
              "<Figure size 432x288 with 1 Axes>"
            ]
          },
          "metadata": {
            "tags": []
          }
        }
      ]
    },
    {
      "cell_type": "code",
      "metadata": {
        "id": "9Eg7yseEP9Rb",
        "colab_type": "code",
        "outputId": "1d04623c-ece7-49fa-ca57-bd610d6376a1",
        "colab": {
          "base_uri": "https://localhost:8080/",
          "height": 195
        }
      },
      "source": [
        "#sampling the dataframe and reseting the index\n",
        "data = data.sample(frac=1).reset_index(drop=True)\n",
        "data.head()"
      ],
      "execution_count": 4,
      "outputs": [
        {
          "output_type": "execute_result",
          "data": {
            "text/html": [
              "<div>\n",
              "<style scoped>\n",
              "    .dataframe tbody tr th:only-of-type {\n",
              "        vertical-align: middle;\n",
              "    }\n",
              "\n",
              "    .dataframe tbody tr th {\n",
              "        vertical-align: top;\n",
              "    }\n",
              "\n",
              "    .dataframe thead th {\n",
              "        text-align: right;\n",
              "    }\n",
              "</style>\n",
              "<table border=\"1\" class=\"dataframe\">\n",
              "  <thead>\n",
              "    <tr style=\"text-align: right;\">\n",
              "      <th></th>\n",
              "      <th>PhraseId</th>\n",
              "      <th>SentenceId</th>\n",
              "      <th>Phrase</th>\n",
              "      <th>Sentiment</th>\n",
              "    </tr>\n",
              "  </thead>\n",
              "  <tbody>\n",
              "    <tr>\n",
              "      <th>0</th>\n",
              "      <td>34819</td>\n",
              "      <td>1638</td>\n",
              "      <td>smell the grease on the plot</td>\n",
              "      <td>3</td>\n",
              "    </tr>\n",
              "    <tr>\n",
              "      <th>1</th>\n",
              "      <td>45466</td>\n",
              "      <td>2210</td>\n",
              "      <td>It 's never dull and always looks good .</td>\n",
              "      <td>4</td>\n",
              "    </tr>\n",
              "    <tr>\n",
              "      <th>2</th>\n",
              "      <td>18860</td>\n",
              "      <td>827</td>\n",
              "      <td>Begley</td>\n",
              "      <td>2</td>\n",
              "    </tr>\n",
              "    <tr>\n",
              "      <th>3</th>\n",
              "      <td>144673</td>\n",
              "      <td>7852</td>\n",
              "      <td>Jackson , who also served as executive producer ,</td>\n",
              "      <td>2</td>\n",
              "    </tr>\n",
              "    <tr>\n",
              "      <th>4</th>\n",
              "      <td>152674</td>\n",
              "      <td>8331</td>\n",
              "      <td>the chaotic horror</td>\n",
              "      <td>1</td>\n",
              "    </tr>\n",
              "  </tbody>\n",
              "</table>\n",
              "</div>"
            ],
            "text/plain": [
              "   PhraseId  ...  Sentiment\n",
              "0     34819  ...          3\n",
              "1     45466  ...          4\n",
              "2     18860  ...          2\n",
              "3    144673  ...          2\n",
              "4    152674  ...          1\n",
              "\n",
              "[5 rows x 4 columns]"
            ]
          },
          "metadata": {
            "tags": []
          },
          "execution_count": 4
        }
      ]
    },
    {
      "cell_type": "code",
      "metadata": {
        "id": "LoQzqTdgQF-6",
        "colab_type": "code",
        "outputId": "fbd89346-4114-47c7-be90-71297f88e924",
        "colab": {
          "base_uri": "https://localhost:8080/",
          "height": 34
        }
      },
      "source": [
        "# creating train and test set(training = 70% and testing = 30%)\n",
        "X_train, X_test, Y_train, Y_test = train_test_split(data ['Phrase'], data ['Sentiment'], test_size=0.3, random_state=2003)\n",
        "documents=[]\n",
        "#converting training and testing sets to NumPy arrays\n",
        "X_train = np.array(X_train.values.tolist())\n",
        "Y_train = np.array(Y_train.values.tolist())\n",
        "X_test = np.array(X_test.values.tolist())\n",
        "Y_test = np.array(Y_test.values.tolist())\n",
        "\n",
        "#word tokenize training and testing sets and appending to a list\n",
        "for i in range(len(X_train)):\n",
        "  documents.append([list(word_tokenize(X_train[i])), Y_train[i]]) \n",
        "\n",
        "for i in range(len(X_test)):\n",
        "  documents.append([list(word_tokenize(X_test[i])), Y_test[i]]) \n",
        "\n",
        "documents[0]"
      ],
      "execution_count": 5,
      "outputs": [
        {
          "output_type": "execute_result",
          "data": {
            "text/plain": [
              "[['therapy-dependent'], 2]"
            ]
          },
          "metadata": {
            "tags": []
          },
          "execution_count": 5
        }
      ]
    },
    {
      "cell_type": "code",
      "metadata": {
        "id": "VAoxTytUQR9x",
        "colab_type": "code",
        "colab": {}
      },
      "source": [
        "from nltk.corpus import stopwords \n",
        "from nltk.stem import WordNetLemmatizer, PorterStemmer, LancasterStemmer \n",
        "porter = PorterStemmer() \n",
        "lancaster=LancasterStemmer() \n",
        "wordnet_lemmatizer = WordNetLemmatizer() \n",
        "stopwords_en = stopwords.words(\"english\") \n",
        "punctuations=\"?:!.,;'\\\"-()\"\n",
        "#parameters to adjust to see the impact on outcome \n",
        "remove_stopwords = True\n",
        "useStemming = False\n",
        "useLemma = False\n",
        "removePuncs = True\n"
      ],
      "execution_count": 0,
      "outputs": []
    },
    {
      "cell_type": "code",
      "metadata": {
        "id": "s9uRdD_JQTU1",
        "colab_type": "code",
        "outputId": "de4ff93d-5a86-409e-d5f0-44a325acf8a9",
        "colab": {
          "base_uri": "https://localhost:8080/",
          "height": 34
        }
      },
      "source": [
        "for l in range(len(documents)):\n",
        "  label = documents[l][1]\n",
        "  tmpReview = [] \n",
        "  for w in documents[l][0]:\n",
        "    newWord = w\n",
        "    if remove_stopwords and (w in stopwords_en):\n",
        "      continue\n",
        "    if removePuncs and (w in punctuations):\n",
        "      continue\n",
        "    if useStemming:\n",
        "      #if useStemming is True : use any one of the stemmer\n",
        "      #newWord = porter.stem(newWord) #User porter stemmer \n",
        "      newWord = lancaster.stem(newWord) #Use Lancaster stemmer \n",
        "    if useLemma: \n",
        "      newWord = wordnet_lemmatizer.lemmatize(newWord) \n",
        "    tmpReview.append(newWord) \n",
        "  documents[l] = (tmpReview, label) \n",
        "  documents[l] = (' '.join(tmpReview), label) \n",
        "\n",
        "print(documents[0])"
      ],
      "execution_count": 7,
      "outputs": [
        {
          "output_type": "stream",
          "text": [
            "('therapy-dependent', 2)\n"
          ],
          "name": "stdout"
        }
      ]
    },
    {
      "cell_type": "code",
      "metadata": {
        "id": "QjrVxzPTQdgy",
        "colab_type": "code",
        "outputId": "932dffc9-e1e7-4837-ecc2-c46ce3e490fd",
        "colab": {
          "base_uri": "https://localhost:8080/",
          "height": 195
        }
      },
      "source": [
        "# create a new df using documents list with text and sentiment as columns\n",
        "df = pd.DataFrame(documents, columns=['text', 'sentiment']) \n",
        "#creating training(70%) and testing(30%) sets\n",
        "X_train, X_test, Y_train, Y_test = train_test_split(df['text'],  df['sentiment'], test_size=0.3, random_state=2003)\n",
        "df.head()"
      ],
      "execution_count": 8,
      "outputs": [
        {
          "output_type": "execute_result",
          "data": {
            "text/html": [
              "<div>\n",
              "<style scoped>\n",
              "    .dataframe tbody tr th:only-of-type {\n",
              "        vertical-align: middle;\n",
              "    }\n",
              "\n",
              "    .dataframe tbody tr th {\n",
              "        vertical-align: top;\n",
              "    }\n",
              "\n",
              "    .dataframe thead th {\n",
              "        text-align: right;\n",
              "    }\n",
              "</style>\n",
              "<table border=\"1\" class=\"dataframe\">\n",
              "  <thead>\n",
              "    <tr style=\"text-align: right;\">\n",
              "      <th></th>\n",
              "      <th>text</th>\n",
              "      <th>sentiment</th>\n",
              "    </tr>\n",
              "  </thead>\n",
              "  <tbody>\n",
              "    <tr>\n",
              "      <th>0</th>\n",
              "      <td>therapy-dependent</td>\n",
              "      <td>2</td>\n",
              "    </tr>\n",
              "    <tr>\n",
              "      <th>1</th>\n",
              "      <td>It unfolds predictably</td>\n",
              "      <td>1</td>\n",
              "    </tr>\n",
              "    <tr>\n",
              "      <th>2</th>\n",
              "      <td>encounter</td>\n",
              "      <td>2</td>\n",
              "    </tr>\n",
              "    <tr>\n",
              "      <th>3</th>\n",
              "      <td>retains extraordinary faith ability images</td>\n",
              "      <td>3</td>\n",
              "    </tr>\n",
              "    <tr>\n",
              "      <th>4</th>\n",
              "      <td>funny stuff movie</td>\n",
              "      <td>2</td>\n",
              "    </tr>\n",
              "  </tbody>\n",
              "</table>\n",
              "</div>"
            ],
            "text/plain": [
              "                                         text  sentiment\n",
              "0                           therapy-dependent          2\n",
              "1                      It unfolds predictably          1\n",
              "2                                   encounter          2\n",
              "3  retains extraordinary faith ability images          3\n",
              "4                           funny stuff movie          2"
            ]
          },
          "metadata": {
            "tags": []
          },
          "execution_count": 8
        }
      ]
    },
    {
      "cell_type": "code",
      "metadata": {
        "id": "YMBXKnXhQwSl",
        "colab_type": "code",
        "outputId": "8850c8e7-a21c-4acc-d83c-54cd8e812960",
        "colab": {
          "base_uri": "https://localhost:8080/",
          "height": 34
        }
      },
      "source": [
        "from sklearn.feature_extraction.text import CountVectorizer , TfidfVectorizer\n",
        "from keras.utils import to_categorical\n",
        "\n",
        "#performing Tfidf Vectorizing on the input text which are the feature to the model\n",
        "vectorizer = TfidfVectorizer(max_features = 2000,ngram_range=(2, 2)) \n",
        "X = vectorizer.fit_transform(df[\"text\"]) \n",
        "Y = df['sentiment'] \n",
        " \n",
        "X_train = vectorizer.transform(X_train).toarray()\n",
        "Y_train = Y_train \n",
        "X_test = vectorizer.transform(X_test).toarray()\n",
        "Y_test = Y_test"
      ],
      "execution_count": 9,
      "outputs": [
        {
          "output_type": "stream",
          "text": [
            "Using TensorFlow backend.\n"
          ],
          "name": "stderr"
        }
      ]
    },
    {
      "cell_type": "code",
      "metadata": {
        "id": "tTYjoLIxQxxY",
        "colab_type": "code",
        "colab": {}
      },
      "source": [
        "#importing required keras libraries\n",
        "import keras\n",
        "from keras.models import Sequential\n",
        "from keras.layers import Dense, Dropout, Flatten, Input, Embedding\n",
        "from keras import backend\n",
        "from keras.preprocessing import sequence,text\n",
        "from keras.preprocessing.text import Tokenizer\n",
        "from keras.layers import SpatialDropout1D\n",
        "from keras.layers.convolutional import Conv1D, MaxPooling1D"
      ],
      "execution_count": 0,
      "outputs": []
    },
    {
      "cell_type": "code",
      "metadata": {
        "id": "iovem6kKQ70S",
        "colab_type": "code",
        "colab": {}
      },
      "source": [
        "#defining recall function\n",
        "def recall_m(y_true, y_pred):\n",
        "    true_pos = backend.sum(backend.round(backend.clip(y_true * y_pred, 0, 1)))\n",
        "    actual_pos = backend.sum(backend.round(backend.clip(y_true, 0, 1)))\n",
        "    recall = true_pos / (actual_pos + backend.epsilon())\n",
        "    return recall\n",
        "\n",
        "#defining precision function\n",
        "def precision_m(y_true, y_pred):\n",
        "    true_pos = backend.sum(backend.round(backend.clip(y_true * y_pred, 0, 1)))\n",
        "    predicted_pos = backend.sum(backend.round(backend.clip(y_pred, 0, 1)))\n",
        "    precision = true_pos / (predicted_pos + backend.epsilon())\n",
        "    return precision\n",
        "\n",
        "#defining F1 score function\n",
        "def f1_m(y_true, y_pred):\n",
        "    precision = precision_m(y_true, y_pred)\n",
        "    recall = recall_m(y_true, y_pred)\n",
        "    return 2*((precision*recall)/(precision+recall+backend.epsilon()))"
      ],
      "execution_count": 0,
      "outputs": []
    },
    {
      "cell_type": "code",
      "metadata": {
        "id": "lGB5ibUDRAwl",
        "colab_type": "code",
        "colab": {}
      },
      "source": [
        "#defining parameters\n",
        "batch_size = 64\n",
        "num_classes = 5\n",
        "epochs = 100\n",
        "#converting the training and testing labels into binary class matrix\n",
        "Y_train = to_categorical(Y_train, num_classes)\n",
        "Y_test = to_categorical(Y_test, num_classes)"
      ],
      "execution_count": 0,
      "outputs": []
    },
    {
      "cell_type": "code",
      "metadata": {
        "id": "GazQ0g8TRsoa",
        "colab_type": "code",
        "outputId": "94b68a5a-ba65-45fd-c26c-948ee0117338",
        "colab": {
          "base_uri": "https://localhost:8080/",
          "height": 692
        }
      },
      "source": [
        "#model defenition\n",
        "model = Sequential()\n",
        "model.add(Conv1D(filters=64, kernel_size=3, strides=2, activation='relu', input_shape=(2000,1)))\n",
        "model.add(Conv1D(128, kernel_size=3, strides=2, activation='relu'))\n",
        "model.add(MaxPooling1D(pool_size=1))\n",
        "model.add(Dropout(rate = 0.50))\n",
        "model.add(Flatten())\n",
        "model.add(Dense(256, activation='relu'))\n",
        "model.add(Dense(64, activation='relu'))\n",
        "model.add(Dropout(0.5))\n",
        "model.add(Dense(num_classes, activation='softmax'))\n",
        "model.summary()"
      ],
      "execution_count": 13,
      "outputs": [
        {
          "output_type": "stream",
          "text": [
            "WARNING:tensorflow:From /usr/local/lib/python3.6/dist-packages/keras/backend/tensorflow_backend.py:66: The name tf.get_default_graph is deprecated. Please use tf.compat.v1.get_default_graph instead.\n",
            "\n",
            "WARNING:tensorflow:From /usr/local/lib/python3.6/dist-packages/keras/backend/tensorflow_backend.py:541: The name tf.placeholder is deprecated. Please use tf.compat.v1.placeholder instead.\n",
            "\n",
            "WARNING:tensorflow:From /usr/local/lib/python3.6/dist-packages/keras/backend/tensorflow_backend.py:4432: The name tf.random_uniform is deprecated. Please use tf.random.uniform instead.\n",
            "\n",
            "WARNING:tensorflow:From /usr/local/lib/python3.6/dist-packages/keras/backend/tensorflow_backend.py:4267: The name tf.nn.max_pool is deprecated. Please use tf.nn.max_pool2d instead.\n",
            "\n",
            "WARNING:tensorflow:From /usr/local/lib/python3.6/dist-packages/keras/backend/tensorflow_backend.py:148: The name tf.placeholder_with_default is deprecated. Please use tf.compat.v1.placeholder_with_default instead.\n",
            "\n",
            "WARNING:tensorflow:From /usr/local/lib/python3.6/dist-packages/keras/backend/tensorflow_backend.py:3733: calling dropout (from tensorflow.python.ops.nn_ops) with keep_prob is deprecated and will be removed in a future version.\n",
            "Instructions for updating:\n",
            "Please use `rate` instead of `keep_prob`. Rate should be set to `rate = 1 - keep_prob`.\n",
            "Model: \"sequential_1\"\n",
            "_________________________________________________________________\n",
            "Layer (type)                 Output Shape              Param #   \n",
            "=================================================================\n",
            "conv1d_1 (Conv1D)            (None, 999, 64)           256       \n",
            "_________________________________________________________________\n",
            "conv1d_2 (Conv1D)            (None, 499, 128)          24704     \n",
            "_________________________________________________________________\n",
            "max_pooling1d_1 (MaxPooling1 (None, 499, 128)          0         \n",
            "_________________________________________________________________\n",
            "dropout_1 (Dropout)          (None, 499, 128)          0         \n",
            "_________________________________________________________________\n",
            "flatten_1 (Flatten)          (None, 63872)             0         \n",
            "_________________________________________________________________\n",
            "dense_1 (Dense)              (None, 256)               16351488  \n",
            "_________________________________________________________________\n",
            "dense_2 (Dense)              (None, 64)                16448     \n",
            "_________________________________________________________________\n",
            "dropout_2 (Dropout)          (None, 64)                0         \n",
            "_________________________________________________________________\n",
            "dense_3 (Dense)              (None, 5)                 325       \n",
            "=================================================================\n",
            "Total params: 16,393,221\n",
            "Trainable params: 16,393,221\n",
            "Non-trainable params: 0\n",
            "_________________________________________________________________\n"
          ],
          "name": "stdout"
        }
      ]
    },
    {
      "cell_type": "code",
      "metadata": {
        "id": "jBhkrk-HR4oB",
        "colab_type": "code",
        "outputId": "9f1100f6-03a7-4436-d056-2163399f79a7",
        "colab": {
          "base_uri": "https://localhost:8080/",
          "height": 1000
        }
      },
      "source": [
        "from keras.utils.vis_utils import plot_model\n",
        "plot_model(model, to_file='model_plot.png', show_shapes=True, show_layer_names=True)"
      ],
      "execution_count": 14,
      "outputs": [
        {
          "output_type": "execute_result",
          "data": {
            "image/png": "[encoded data removed]",
            "text/plain": [
              "<IPython.core.display.Image object>"
            ]
          },
          "metadata": {
            "tags": []
          },
          "execution_count": 14
        }
      ]
    },
    {
      "cell_type": "code",
      "metadata": {
        "id": "TuMjptFMR9qe",
        "colab_type": "code",
        "outputId": "5ea634f5-3fc0-467a-f225-1bb3fcffd986",
        "colab": {
          "base_uri": "https://localhost:8080/",
          "height": 84
        }
      },
      "source": [
        "model.compile(loss=keras.losses.categorical_crossentropy,\n",
        "              optimizer=keras.optimizers.Adam(),\n",
        "              metrics=['accuracy',f1_m,precision_m, recall_m])"
      ],
      "execution_count": 15,
      "outputs": [
        {
          "output_type": "stream",
          "text": [
            "WARNING:tensorflow:From /usr/local/lib/python3.6/dist-packages/keras/optimizers.py:793: The name tf.train.Optimizer is deprecated. Please use tf.compat.v1.train.Optimizer instead.\n",
            "\n",
            "WARNING:tensorflow:From /usr/local/lib/python3.6/dist-packages/keras/backend/tensorflow_backend.py:3576: The name tf.log is deprecated. Please use tf.math.log instead.\n",
            "\n"
          ],
          "name": "stdout"
        }
      ]
    },
    {
      "cell_type": "code",
      "metadata": {
        "id": "6jgua6CnSB9k",
        "colab_type": "code",
        "outputId": "81afde21-2f4e-444a-8324-67875ac4cba9",
        "colab": {
          "base_uri": "https://localhost:8080/",
          "height": 1000
        }
      },
      "source": [
        "X_train = X_train.reshape(X_train.shape[0], X_train.shape[1], 1)\n",
        "X_test = X_test.reshape(X_test.shape[0], X_test.shape[1], 1)\n",
        "history = model.fit(X_train, Y_train,\n",
        "          batch_size=64,\n",
        "          epochs=100)\n",
        "\n",
        "#Training accuracy plot of the model\n",
        "plt.plot(history.history['acc'])\n",
        "plt.title('Training accuracy of the model')\n",
        "plt.ylabel('Training accuracy')\n",
        "plt.xlabel('epoch')\n",
        "plt.legend(['train'], loc='upper left')\n",
        "plt.show()\n",
        "\n",
        "#Training loss plot of the model\n",
        "plt.plot(history.history['loss'])\n",
        "plt.title('Training loss of the model')\n",
        "plt.ylabel('Training loss')\n",
        "plt.xlabel('epoch')\n",
        "plt.legend(['train'], loc='upper left')\n",
        "plt.show()\n"
      ],
      "execution_count": 16,
      "outputs": [
        {
          "output_type": "stream",
          "text": [
            "WARNING:tensorflow:From /tensorflow-1.15.0/python3.6/tensorflow_core/python/ops/math_grad.py:1424: where (from tensorflow.python.ops.array_ops) is deprecated and will be removed in a future version.\n",
            "Instructions for updating:\n",
            "Use tf.where in 2.0, which has the same broadcast rule as np.where\n",
            "WARNING:tensorflow:From /usr/local/lib/python3.6/dist-packages/keras/backend/tensorflow_backend.py:1033: The name tf.assign_add is deprecated. Please use tf.compat.v1.assign_add instead.\n",
            "\n",
            "WARNING:tensorflow:From /usr/local/lib/python3.6/dist-packages/keras/backend/tensorflow_backend.py:1020: The name tf.assign is deprecated. Please use tf.compat.v1.assign instead.\n",
            "\n",
            "WARNING:tensorflow:From /usr/local/lib/python3.6/dist-packages/keras/backend/tensorflow_backend.py:3005: The name tf.Session is deprecated. Please use tf.compat.v1.Session instead.\n",
            "\n",
            "Epoch 1/100\n",
            "WARNING:tensorflow:From /usr/local/lib/python3.6/dist-packages/keras/backend/tensorflow_backend.py:190: The name tf.get_default_session is deprecated. Please use tf.compat.v1.get_default_session instead.\n",
            "\n",
            "WARNING:tensorflow:From /usr/local/lib/python3.6/dist-packages/keras/backend/tensorflow_backend.py:197: The name tf.ConfigProto is deprecated. Please use tf.compat.v1.ConfigProto instead.\n",
            "\n",
            "WARNING:tensorflow:From /usr/local/lib/python3.6/dist-packages/keras/backend/tensorflow_backend.py:207: The name tf.global_variables is deprecated. Please use tf.compat.v1.global_variables instead.\n",
            "\n",
            "WARNING:tensorflow:From /usr/local/lib/python3.6/dist-packages/keras/backend/tensorflow_backend.py:216: The name tf.is_variable_initialized is deprecated. Please use tf.compat.v1.is_variable_initialized instead.\n",
            "\n",
            "WARNING:tensorflow:From /usr/local/lib/python3.6/dist-packages/keras/backend/tensorflow_backend.py:223: The name tf.variables_initializer is deprecated. Please use tf.compat.v1.variables_initializer instead.\n",
            "\n",
            "109242/109242 [==============================] - 36s 330us/step - loss: 1.2727 - acc: 0.5169 - f1_m: 0.3558 - precision_m: 0.5321 - recall_m: 0.2803\n",
            "Epoch 2/100\n",
            "109242/109242 [==============================] - 23s 209us/step - loss: 1.2259 - acc: 0.5305 - f1_m: 0.4484 - precision_m: 0.5536 - recall_m: 0.3817\n",
            "Epoch 3/100\n",
            "109242/109242 [==============================] - 23s 209us/step - loss: 1.2106 - acc: 0.5358 - f1_m: 0.4895 - precision_m: 0.5578 - recall_m: 0.4381\n",
            "Epoch 4/100\n",
            "109242/109242 [==============================] - 23s 210us/step - loss: 1.2033 - acc: 0.5381 - f1_m: 0.5062 - precision_m: 0.5567 - recall_m: 0.4652\n",
            "Epoch 5/100\n",
            "109242/109242 [==============================] - 23s 210us/step - loss: 1.1967 - acc: 0.5398 - f1_m: 0.5157 - precision_m: 0.5593 - recall_m: 0.4799\n",
            "Epoch 6/100\n",
            "109242/109242 [==============================] - 23s 210us/step - loss: 1.1931 - acc: 0.5411 - f1_m: 0.5207 - precision_m: 0.5604 - recall_m: 0.4880\n",
            "Epoch 7/100\n",
            "109242/109242 [==============================] - 23s 210us/step - loss: 1.1895 - acc: 0.5431 - f1_m: 0.5246 - precision_m: 0.5606 - recall_m: 0.4943\n",
            "Epoch 8/100\n",
            "109242/109242 [==============================] - 23s 209us/step - loss: 1.1849 - acc: 0.5444 - f1_m: 0.5277 - precision_m: 0.5607 - recall_m: 0.4994\n",
            "Epoch 9/100\n",
            "109242/109242 [==============================] - 23s 209us/step - loss: 1.1823 - acc: 0.5460 - f1_m: 0.5309 - precision_m: 0.5615 - recall_m: 0.5044\n",
            "Epoch 10/100\n",
            "109242/109242 [==============================] - 23s 209us/step - loss: 1.1799 - acc: 0.5467 - f1_m: 0.5329 - precision_m: 0.5617 - recall_m: 0.5073\n",
            "Epoch 11/100\n",
            "109242/109242 [==============================] - 23s 210us/step - loss: 1.1784 - acc: 0.5484 - f1_m: 0.5340 - precision_m: 0.5631 - recall_m: 0.5087\n",
            "Epoch 12/100\n",
            "109242/109242 [==============================] - 23s 211us/step - loss: 1.1774 - acc: 0.5485 - f1_m: 0.5346 - precision_m: 0.5628 - recall_m: 0.5098\n",
            "Epoch 13/100\n",
            "109242/109242 [==============================] - 23s 210us/step - loss: 1.1746 - acc: 0.5488 - f1_m: 0.5352 - precision_m: 0.5639 - recall_m: 0.5106\n",
            "Epoch 14/100\n",
            "109242/109242 [==============================] - 23s 210us/step - loss: 1.1746 - acc: 0.5492 - f1_m: 0.5362 - precision_m: 0.5644 - recall_m: 0.5116\n",
            "Epoch 15/100\n",
            "109242/109242 [==============================] - 23s 209us/step - loss: 1.1737 - acc: 0.5489 - f1_m: 0.5360 - precision_m: 0.5639 - recall_m: 0.5116\n",
            "Epoch 16/100\n",
            "109242/109242 [==============================] - 23s 209us/step - loss: 1.1709 - acc: 0.5504 - f1_m: 0.5374 - precision_m: 0.5648 - recall_m: 0.5133\n",
            "Epoch 17/100\n",
            "109242/109242 [==============================] - 23s 209us/step - loss: 1.1700 - acc: 0.5507 - f1_m: 0.5369 - precision_m: 0.5646 - recall_m: 0.5131\n",
            "Epoch 18/100\n",
            "109242/109242 [==============================] - 23s 209us/step - loss: 1.1695 - acc: 0.5513 - f1_m: 0.5389 - precision_m: 0.5650 - recall_m: 0.5157\n",
            "Epoch 19/100\n",
            "109242/109242 [==============================] - 23s 208us/step - loss: 1.1682 - acc: 0.5512 - f1_m: 0.5387 - precision_m: 0.5652 - recall_m: 0.5157\n",
            "Epoch 20/100\n",
            "109242/109242 [==============================] - 23s 208us/step - loss: 1.1671 - acc: 0.5516 - f1_m: 0.5393 - precision_m: 0.5662 - recall_m: 0.5160\n",
            "Epoch 21/100\n",
            "109242/109242 [==============================] - 23s 208us/step - loss: 1.1668 - acc: 0.5520 - f1_m: 0.5400 - precision_m: 0.5657 - recall_m: 0.5173\n",
            "Epoch 22/100\n",
            "109242/109242 [==============================] - 23s 207us/step - loss: 1.1662 - acc: 0.5520 - f1_m: 0.5401 - precision_m: 0.5662 - recall_m: 0.5175\n",
            "Epoch 23/100\n",
            "109242/109242 [==============================] - 23s 208us/step - loss: 1.1654 - acc: 0.5522 - f1_m: 0.5398 - precision_m: 0.5657 - recall_m: 0.5170\n",
            "Epoch 24/100\n",
            "109242/109242 [==============================] - 23s 209us/step - loss: 1.1648 - acc: 0.5527 - f1_m: 0.5412 - precision_m: 0.5665 - recall_m: 0.5191\n",
            "Epoch 25/100\n",
            "109242/109242 [==============================] - 23s 209us/step - loss: 1.1650 - acc: 0.5522 - f1_m: 0.5411 - precision_m: 0.5663 - recall_m: 0.5186\n",
            "Epoch 26/100\n",
            "109242/109242 [==============================] - 23s 211us/step - loss: 1.1642 - acc: 0.5525 - f1_m: 0.5420 - precision_m: 0.5670 - recall_m: 0.5197\n",
            "Epoch 27/100\n",
            "109242/109242 [==============================] - 23s 209us/step - loss: 1.1629 - acc: 0.5526 - f1_m: 0.5406 - precision_m: 0.5668 - recall_m: 0.5178\n",
            "Epoch 28/100\n",
            "109242/109242 [==============================] - 23s 210us/step - loss: 1.1632 - acc: 0.5528 - f1_m: 0.5418 - precision_m: 0.5673 - recall_m: 0.5196\n",
            "Epoch 29/100\n",
            "109242/109242 [==============================] - 23s 208us/step - loss: 1.1620 - acc: 0.5535 - f1_m: 0.5427 - precision_m: 0.5670 - recall_m: 0.5209\n",
            "Epoch 30/100\n",
            "109242/109242 [==============================] - 23s 208us/step - loss: 1.1616 - acc: 0.5547 - f1_m: 0.5430 - precision_m: 0.5679 - recall_m: 0.5209\n",
            "Epoch 31/100\n",
            "109242/109242 [==============================] - 23s 208us/step - loss: 1.1617 - acc: 0.5539 - f1_m: 0.5424 - precision_m: 0.5678 - recall_m: 0.5202\n",
            "Epoch 32/100\n",
            "109242/109242 [==============================] - 23s 208us/step - loss: 1.1608 - acc: 0.5546 - f1_m: 0.5432 - precision_m: 0.5679 - recall_m: 0.5212\n",
            "Epoch 33/100\n",
            "109242/109242 [==============================] - 23s 208us/step - loss: 1.1610 - acc: 0.5536 - f1_m: 0.5423 - precision_m: 0.5670 - recall_m: 0.5203\n",
            "Epoch 34/100\n",
            "109242/109242 [==============================] - 23s 209us/step - loss: 1.1604 - acc: 0.5542 - f1_m: 0.5430 - precision_m: 0.5674 - recall_m: 0.5212\n",
            "Epoch 35/100\n",
            "109242/109242 [==============================] - 23s 208us/step - loss: 1.1604 - acc: 0.5543 - f1_m: 0.5428 - precision_m: 0.5676 - recall_m: 0.5207\n",
            "Epoch 36/100\n",
            "109242/109242 [==============================] - 23s 208us/step - loss: 1.1606 - acc: 0.5538 - f1_m: 0.5426 - precision_m: 0.5677 - recall_m: 0.5204\n",
            "Epoch 37/100\n",
            "109242/109242 [==============================] - 23s 207us/step - loss: 1.1595 - acc: 0.5537 - f1_m: 0.5432 - precision_m: 0.5674 - recall_m: 0.5216\n",
            "Epoch 38/100\n",
            "109242/109242 [==============================] - 23s 207us/step - loss: 1.1599 - acc: 0.5546 - f1_m: 0.5428 - precision_m: 0.5674 - recall_m: 0.5208\n",
            "Epoch 39/100\n",
            "109242/109242 [==============================] - 23s 209us/step - loss: 1.1588 - acc: 0.5550 - f1_m: 0.5439 - precision_m: 0.5680 - recall_m: 0.5222\n",
            "Epoch 40/100\n",
            "109242/109242 [==============================] - 23s 208us/step - loss: 1.1598 - acc: 0.5540 - f1_m: 0.5430 - precision_m: 0.5676 - recall_m: 0.5212\n",
            "Epoch 41/100\n",
            "109242/109242 [==============================] - 23s 207us/step - loss: 1.1576 - acc: 0.5550 - f1_m: 0.5435 - precision_m: 0.5685 - recall_m: 0.5213\n",
            "Epoch 42/100\n",
            "109242/109242 [==============================] - 23s 208us/step - loss: 1.1587 - acc: 0.5539 - f1_m: 0.5435 - precision_m: 0.5682 - recall_m: 0.5215\n",
            "Epoch 43/100\n",
            "109242/109242 [==============================] - 23s 206us/step - loss: 1.1581 - acc: 0.5544 - f1_m: 0.5440 - precision_m: 0.5684 - recall_m: 0.5222\n",
            "Epoch 44/100\n",
            "109242/109242 [==============================] - 23s 207us/step - loss: 1.1579 - acc: 0.5549 - f1_m: 0.5439 - precision_m: 0.5692 - recall_m: 0.5214\n",
            "Epoch 45/100\n",
            "109242/109242 [==============================] - 23s 207us/step - loss: 1.1577 - acc: 0.5546 - f1_m: 0.5438 - precision_m: 0.5684 - recall_m: 0.5219\n",
            "Epoch 46/100\n",
            "109242/109242 [==============================] - 23s 207us/step - loss: 1.1586 - acc: 0.5544 - f1_m: 0.5434 - precision_m: 0.5685 - recall_m: 0.5212\n",
            "Epoch 47/100\n",
            "109242/109242 [==============================] - 23s 207us/step - loss: 1.1570 - acc: 0.5562 - f1_m: 0.5446 - precision_m: 0.5694 - recall_m: 0.5224\n",
            "Epoch 48/100\n",
            "109242/109242 [==============================] - 23s 206us/step - loss: 1.1583 - acc: 0.5546 - f1_m: 0.5426 - precision_m: 0.5680 - recall_m: 0.5201\n",
            "Epoch 49/100\n",
            "109242/109242 [==============================] - 23s 207us/step - loss: 1.1560 - acc: 0.5558 - f1_m: 0.5439 - precision_m: 0.5689 - recall_m: 0.5217\n",
            "Epoch 50/100\n",
            "109242/109242 [==============================] - 23s 207us/step - loss: 1.1570 - acc: 0.5545 - f1_m: 0.5438 - precision_m: 0.5680 - recall_m: 0.5222\n",
            "Epoch 51/100\n",
            "109242/109242 [==============================] - 23s 206us/step - loss: 1.1559 - acc: 0.5558 - f1_m: 0.5447 - precision_m: 0.5693 - recall_m: 0.5228\n",
            "Epoch 52/100\n",
            "109242/109242 [==============================] - 23s 207us/step - loss: 1.1552 - acc: 0.5557 - f1_m: 0.5448 - precision_m: 0.5692 - recall_m: 0.5229\n",
            "Epoch 53/100\n",
            "109242/109242 [==============================] - 23s 209us/step - loss: 1.1558 - acc: 0.5546 - f1_m: 0.5435 - precision_m: 0.5685 - recall_m: 0.5215\n",
            "Epoch 54/100\n",
            "109242/109242 [==============================] - 23s 207us/step - loss: 1.1565 - acc: 0.5555 - f1_m: 0.5441 - precision_m: 0.5695 - recall_m: 0.5216\n",
            "Epoch 55/100\n",
            "109242/109242 [==============================] - 23s 207us/step - loss: 1.1551 - acc: 0.5557 - f1_m: 0.5451 - precision_m: 0.5695 - recall_m: 0.5232\n",
            "Epoch 56/100\n",
            "109242/109242 [==============================] - 23s 207us/step - loss: 1.1568 - acc: 0.5555 - f1_m: 0.5436 - precision_m: 0.5691 - recall_m: 0.5210\n",
            "Epoch 57/100\n",
            "109242/109242 [==============================] - 23s 207us/step - loss: 1.1555 - acc: 0.5549 - f1_m: 0.5438 - precision_m: 0.5689 - recall_m: 0.5214\n",
            "Epoch 58/100\n",
            "109242/109242 [==============================] - 23s 207us/step - loss: 1.1551 - acc: 0.5558 - f1_m: 0.5450 - precision_m: 0.5695 - recall_m: 0.5231\n",
            "Epoch 59/100\n",
            "109242/109242 [==============================] - 23s 207us/step - loss: 1.1560 - acc: 0.5560 - f1_m: 0.5443 - precision_m: 0.5696 - recall_m: 0.5219\n",
            "Epoch 60/100\n",
            "109242/109242 [==============================] - 23s 207us/step - loss: 1.1542 - acc: 0.5563 - f1_m: 0.5452 - precision_m: 0.5699 - recall_m: 0.5231\n",
            "Epoch 61/100\n",
            "109242/109242 [==============================] - 22s 206us/step - loss: 1.1547 - acc: 0.5556 - f1_m: 0.5444 - precision_m: 0.5690 - recall_m: 0.5226\n",
            "Epoch 62/100\n",
            "109242/109242 [==============================] - 23s 207us/step - loss: 1.1551 - acc: 0.5557 - f1_m: 0.5441 - precision_m: 0.5689 - recall_m: 0.5222\n",
            "Epoch 63/100\n",
            "109242/109242 [==============================] - 23s 206us/step - loss: 1.1557 - acc: 0.5556 - f1_m: 0.5444 - precision_m: 0.5693 - recall_m: 0.5223\n",
            "Epoch 64/100\n",
            "109242/109242 [==============================] - 23s 207us/step - loss: 1.1543 - acc: 0.5557 - f1_m: 0.5447 - precision_m: 0.5693 - recall_m: 0.5229\n",
            "Epoch 65/100\n",
            "109242/109242 [==============================] - 23s 207us/step - loss: 1.1542 - acc: 0.5561 - f1_m: 0.5458 - precision_m: 0.5691 - recall_m: 0.5247\n",
            "Epoch 66/100\n",
            "109242/109242 [==============================] - 23s 206us/step - loss: 1.1549 - acc: 0.5560 - f1_m: 0.5449 - precision_m: 0.5698 - recall_m: 0.5228\n",
            "Epoch 67/100\n",
            "109242/109242 [==============================] - 23s 211us/step - loss: 1.1534 - acc: 0.5563 - f1_m: 0.5451 - precision_m: 0.5698 - recall_m: 0.5233\n",
            "Epoch 68/100\n",
            "109242/109242 [==============================] - 23s 208us/step - loss: 1.1543 - acc: 0.5561 - f1_m: 0.5455 - precision_m: 0.5698 - recall_m: 0.5237\n",
            "Epoch 69/100\n",
            "109242/109242 [==============================] - 23s 208us/step - loss: 1.1538 - acc: 0.5555 - f1_m: 0.5446 - precision_m: 0.5693 - recall_m: 0.5227\n",
            "Epoch 70/100\n",
            "109242/109242 [==============================] - 23s 208us/step - loss: 1.1555 - acc: 0.5553 - f1_m: 0.5424 - precision_m: 0.5692 - recall_m: 0.5195\n",
            "Epoch 71/100\n",
            "109242/109242 [==============================] - 23s 208us/step - loss: 1.1538 - acc: 0.5559 - f1_m: 0.5438 - precision_m: 0.5696 - recall_m: 0.5211\n",
            "Epoch 72/100\n",
            "109242/109242 [==============================] - 23s 207us/step - loss: 1.1541 - acc: 0.5559 - f1_m: 0.5448 - precision_m: 0.5695 - recall_m: 0.5227\n",
            "Epoch 73/100\n",
            "109242/109242 [==============================] - 23s 208us/step - loss: 1.1536 - acc: 0.5563 - f1_m: 0.5454 - precision_m: 0.5702 - recall_m: 0.5232\n",
            "Epoch 74/100\n",
            "109242/109242 [==============================] - 23s 207us/step - loss: 1.1530 - acc: 0.5566 - f1_m: 0.5464 - precision_m: 0.5702 - recall_m: 0.5249\n",
            "Epoch 75/100\n",
            "109242/109242 [==============================] - 23s 207us/step - loss: 1.1547 - acc: 0.5561 - f1_m: 0.5443 - precision_m: 0.5695 - recall_m: 0.5220\n",
            "Epoch 76/100\n",
            "109242/109242 [==============================] - 23s 208us/step - loss: 1.1531 - acc: 0.5558 - f1_m: 0.5452 - precision_m: 0.5695 - recall_m: 0.5234\n",
            "Epoch 77/100\n",
            "109242/109242 [==============================] - 23s 208us/step - loss: 1.1535 - acc: 0.5566 - f1_m: 0.5452 - precision_m: 0.5698 - recall_m: 0.5233\n",
            "Epoch 78/100\n",
            "109242/109242 [==============================] - 23s 208us/step - loss: 1.1535 - acc: 0.5572 - f1_m: 0.5461 - precision_m: 0.5699 - recall_m: 0.5246\n",
            "Epoch 79/100\n",
            "109242/109242 [==============================] - 23s 207us/step - loss: 1.1546 - acc: 0.5553 - f1_m: 0.5449 - precision_m: 0.5697 - recall_m: 0.5230\n",
            "Epoch 80/100\n",
            "109242/109242 [==============================] - 22s 206us/step - loss: 1.1545 - acc: 0.5559 - f1_m: 0.5447 - precision_m: 0.5704 - recall_m: 0.5222\n",
            "Epoch 81/100\n",
            "109242/109242 [==============================] - 22s 205us/step - loss: 1.1532 - acc: 0.5569 - f1_m: 0.5461 - precision_m: 0.5704 - recall_m: 0.5243\n",
            "Epoch 82/100\n",
            "109242/109242 [==============================] - 22s 204us/step - loss: 1.1533 - acc: 0.5568 - f1_m: 0.5451 - precision_m: 0.5703 - recall_m: 0.5227\n",
            "Epoch 83/100\n",
            "109242/109242 [==============================] - 25s 232us/step - loss: 1.1538 - acc: 0.5567 - f1_m: 0.5446 - precision_m: 0.5703 - recall_m: 0.5221\n",
            "Epoch 84/100\n",
            "109242/109242 [==============================] - 23s 209us/step - loss: 1.1536 - acc: 0.5566 - f1_m: 0.5457 - precision_m: 0.5704 - recall_m: 0.5237\n",
            "Epoch 85/100\n",
            "109242/109242 [==============================] - 23s 211us/step - loss: 1.1547 - acc: 0.5560 - f1_m: 0.5440 - precision_m: 0.5700 - recall_m: 0.5214\n",
            "Epoch 86/100\n",
            "109242/109242 [==============================] - 23s 210us/step - loss: 1.1517 - acc: 0.5563 - f1_m: 0.5460 - precision_m: 0.5702 - recall_m: 0.5242\n",
            "Epoch 87/100\n",
            "109242/109242 [==============================] - 23s 210us/step - loss: 1.1528 - acc: 0.5563 - f1_m: 0.5453 - precision_m: 0.5702 - recall_m: 0.5233\n",
            "Epoch 88/100\n",
            "109242/109242 [==============================] - 23s 210us/step - loss: 1.1529 - acc: 0.5565 - f1_m: 0.5446 - precision_m: 0.5702 - recall_m: 0.5221\n",
            "Epoch 89/100\n",
            "109242/109242 [==============================] - 23s 210us/step - loss: 1.1533 - acc: 0.5566 - f1_m: 0.5451 - precision_m: 0.5695 - recall_m: 0.5234\n",
            "Epoch 90/100\n",
            "109242/109242 [==============================] - 23s 209us/step - loss: 1.1523 - acc: 0.5567 - f1_m: 0.5457 - precision_m: 0.5699 - recall_m: 0.5240\n",
            "Epoch 91/100\n",
            "109242/109242 [==============================] - 23s 209us/step - loss: 1.1525 - acc: 0.5572 - f1_m: 0.5471 - precision_m: 0.5714 - recall_m: 0.5253\n",
            "Epoch 92/100\n",
            "109242/109242 [==============================] - 23s 210us/step - loss: 1.1529 - acc: 0.5559 - f1_m: 0.5447 - precision_m: 0.5698 - recall_m: 0.5226\n",
            "Epoch 93/100\n",
            "109242/109242 [==============================] - 23s 211us/step - loss: 1.1554 - acc: 0.5562 - f1_m: 0.5438 - precision_m: 0.5702 - recall_m: 0.5208\n",
            "Epoch 94/100\n",
            "109242/109242 [==============================] - 23s 212us/step - loss: 1.1528 - acc: 0.5559 - f1_m: 0.5454 - precision_m: 0.5695 - recall_m: 0.5236\n",
            "Epoch 95/100\n",
            "109242/109242 [==============================] - 23s 211us/step - loss: 1.1523 - acc: 0.5578 - f1_m: 0.5466 - precision_m: 0.5712 - recall_m: 0.5246\n",
            "Epoch 96/100\n",
            "109242/109242 [==============================] - 23s 210us/step - loss: 1.1524 - acc: 0.5562 - f1_m: 0.5457 - precision_m: 0.5703 - recall_m: 0.5237\n",
            "Epoch 97/100\n",
            "109242/109242 [==============================] - 23s 210us/step - loss: 1.1524 - acc: 0.5569 - f1_m: 0.5458 - precision_m: 0.5703 - recall_m: 0.5239\n",
            "Epoch 98/100\n",
            "109242/109242 [==============================] - 23s 210us/step - loss: 1.1510 - acc: 0.5573 - f1_m: 0.5472 - precision_m: 0.5709 - recall_m: 0.5258\n",
            "Epoch 99/100\n",
            "109242/109242 [==============================] - 23s 212us/step - loss: 1.1524 - acc: 0.5568 - f1_m: 0.5456 - precision_m: 0.5701 - recall_m: 0.5237\n",
            "Epoch 100/100\n",
            "109242/109242 [==============================] - 23s 210us/step - loss: 1.1523 - acc: 0.5573 - f1_m: 0.5462 - precision_m: 0.5704 - recall_m: 0.5246\n"
          ],
          "name": "stdout"
        },
        {
          "output_type": "display_data",
          "data": {
            "image/png": "[encoded data removed]",
            "text/plain": [
              "<Figure size 432x288 with 1 Axes>"
            ]
          },
          "metadata": {
            "tags": []
          }
        },
        {
          "output_type": "display_data",
          "data": {
            "image/png": "[encoded data removed]",
            "text/plain": [
              "<Figure size 432x288 with 1 Axes>"
            ]
          },
          "metadata": {
            "tags": []
          }
        }
      ]
    },
    {
      "cell_type": "code",
      "metadata": {
        "id": "_HnpeMYjSLZR",
        "colab_type": "code",
        "colab": {
          "base_uri": "https://localhost:8080/",
          "height": 101
        },
        "outputId": "97a4a834-a48c-470b-d80f-3458a05bae61"
      },
      "source": [
        "#evaluating the model\n",
        "score = model.evaluate(X_test, Y_test, verbose=0)\n",
        "print('Test loss:', score[0])\n",
        "print('Test accuracy:', score[1])\n",
        "print('F1 score:', score[2])\n",
        "print('Precision:',score[3])\n",
        "print('Recall:',score[4])"
      ],
      "execution_count": 17,
      "outputs": [
        {
          "output_type": "stream",
          "text": [
            "Test loss: 1.24617699911402\n",
            "Test accuracy: 0.5376350976120295\n",
            "F1 score: 0.5288185111643936\n",
            "Precision: 0.5509530810779384\n",
            "Recall: 0.5090349865436371\n"
          ],
          "name": "stdout"
        }
      ]
    },
    {
      "cell_type": "code",
      "metadata": {
        "id": "YQ2w5QV4SQGn",
        "colab_type": "code",
        "colab": {}
      },
      "source": [
        "#saving the model\n",
        "model.save(\"1114334_1dconv_reg.h5\")"
      ],
      "execution_count": 0,
      "outputs": []
    },
    {
      "cell_type": "code",
      "metadata": {
        "id": "wRzReBnQSTJw",
        "colab_type": "code",
        "colab": {}
      },
      "source": [
        "#code for loading the saved model\n",
        "from keras.models import load_model\n",
        "\n",
        "# loading model from disk\n",
        "model_load = load_model('1114334_1dconv_reg.h5', custom_objects={'f1_m': f1_m, 'precision_m': precision_m, 'recall_m': recall_m})"
      ],
      "execution_count": 0,
      "outputs": []
    }
  ]
}